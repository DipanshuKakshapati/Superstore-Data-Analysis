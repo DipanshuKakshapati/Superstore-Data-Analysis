{
 "cells": [
  {
   "cell_type": "code",
   "execution_count": null,
   "id": "e816ec57-7b25-4e9c-916e-13d8c31b1ca5",
   "metadata": {},
   "outputs": [],
   "source": [
    "import pandas as pd\n",
    "import uuid\n",
    "from sqlalchemy import create_engine\n",
    "from sqlalchemy import text\n",
    "from config import DATABASE_URL"
   ]
  },
  {
   "cell_type": "code",
   "execution_count": null,
   "id": "501321b6-ba0e-424e-ac81-15556c5e5090",
   "metadata": {},
   "outputs": [],
   "source": [
    "file = pd.read_csv('Sample Superstore.csv')"
   ]
  },
  {
   "cell_type": "code",
   "execution_count": null,
   "id": "8324d8ad-8a0f-435f-83ec-e8ee81e7300d",
   "metadata": {
    "scrolled": true
   },
   "outputs": [],
   "source": [
    "file"
   ]
  },
  {
   "cell_type": "code",
   "execution_count": null,
   "id": "02a25cb9-def1-47c2-b359-1ef5371b0cb0",
   "metadata": {},
   "outputs": [],
   "source": [
    "# Create a dictionary to store UUIDs for unique customer combinations\n",
    "unique_customers = {}\n",
    "\n",
    "# Function to get or create UUID\n",
    "def get_customer_guid(row):\n",
    "    # Create a tuple of the key items\n",
    "    key = (row['Customer ID'])\n",
    "    if key not in unique_customers:\n",
    "        # Assign new UUID if key is not found\n",
    "        unique_customers[key] = str(uuid.uuid4())\n",
    "    return unique_customers[key]\n",
    "\n",
    "# Apply the function to each row in the DataFrame\n",
    "file['CustomerGUID'] = file.apply(get_customer_guid, axis=1)"
   ]
  },
  {
   "cell_type": "code",
   "execution_count": null,
   "id": "97d28e91-793f-400e-9058-59264dae77b0",
   "metadata": {},
   "outputs": [],
   "source": [
    "# Create a dictionary to store product IDs for unique combinations\n",
    "unique_products = {}\n",
    "current_product_id = 1  # Start product ID numbering from 1\n",
    "\n",
    "# Function to get or create a product ID\n",
    "def get_product_id(row):\n",
    "    global current_product_id\n",
    "    # Create a tuple of the key items\n",
    "    key = (row['Product Category'], row['Product Sub-Category'], row['Product Container'])\n",
    "    if key not in unique_products:\n",
    "        # Assign new product ID if key is not found and increment the ID\n",
    "        unique_products[key] = current_product_id\n",
    "        current_product_id += 1\n",
    "    return unique_products[key]\n",
    "\n",
    "# Apply the function to each row in the DataFrame\n",
    "file['Product ID'] = file.apply(get_product_id, axis=1)"
   ]
  },
  {
   "cell_type": "code",
   "execution_count": null,
   "id": "2ecf916c-aa51-47bd-ad9b-1d07f7f3c7ab",
   "metadata": {},
   "outputs": [],
   "source": [
    "# Create a dictionary to store UUIDs for unique customer combinations\n",
    "unique_products_uguid = {}\n",
    "\n",
    "# Function to get or create UUID\n",
    "def get_product_guid(row):\n",
    "    # Create a tuple of the key items\n",
    "    key = (row['Product ID'])\n",
    "    if key not in unique_products_uguid:\n",
    "        # Assign new UUID if key is not found\n",
    "        unique_products_uguid[key] = str(uuid.uuid4())\n",
    "    return unique_products_uguid[key]\n",
    "\n",
    "# Apply the function to each row in the DataFrame\n",
    "file['ProductGUID'] = file.apply(get_product_guid, axis=1)"
   ]
  },
  {
   "cell_type": "code",
   "execution_count": null,
   "id": "7bcb0bb4-b801-4365-b64f-b10b52529233",
   "metadata": {},
   "outputs": [],
   "source": [
    "# Create a dictionary to store product IDs for unique combinations\n",
    "unique_orders = {}\n",
    "current_order_id = 1  # Start product ID numbering from 1\n",
    "\n",
    "# Function to get or create a product ID\n",
    "def get_order_id(row):\n",
    "    global current_order_id\n",
    "    # Create a tuple of the key items\n",
    "    key = (row['CustomerGUID'], row['Order Date'], row['Order Priority'])\n",
    "    if key not in unique_orders:\n",
    "        # Assign new product ID if key is not found and increment the ID\n",
    "        unique_orders[key] = current_order_id\n",
    "        current_order_id += 1\n",
    "    return unique_orders[key]\n",
    "\n",
    "# Apply the function to each row in the DataFrame\n",
    "file['Order ID'] = file.apply(get_order_id, axis=1)"
   ]
  },
  {
   "cell_type": "code",
   "execution_count": null,
   "id": "fabcfe73-b48c-4111-845c-02c9390b87f5",
   "metadata": {},
   "outputs": [],
   "source": [
    "# Create a dictionary to store UUIDs for unique customer combinations\n",
    "unique_orders_uguid = {}\n",
    "\n",
    "# Function to get or create UUID\n",
    "def get_order_guid(row):\n",
    "    # Create a tuple of the key items\n",
    "    key = (row['Order ID'])\n",
    "    if key not in unique_orders_uguid:\n",
    "        # Assign new UUID if key is not found\n",
    "        unique_orders_uguid[key] = str(uuid.uuid4())\n",
    "    return unique_orders_uguid[key]\n",
    "\n",
    "# Apply the function to each row in the DataFrame\n",
    "file['OrderGUID'] = file.apply(get_order_guid, axis=1)"
   ]
  },
  {
   "cell_type": "code",
   "execution_count": null,
   "id": "e817a011-8d07-429c-b140-f8d5844c8240",
   "metadata": {},
   "outputs": [],
   "source": [
    "# Create a dictionary to store product IDs for unique combinations\n",
    "unique_address = {}\n",
    "current_address_id = 1  # Start product ID numbering from 1\n",
    "\n",
    "# Function to get or create a product ID\n",
    "def get_address_id(row):\n",
    "    global current_address_id\n",
    "    # Create a tuple of the key items\n",
    "    key = (row['Region'], row['State or Province'], row['City'], row['Postal Code'], row['CustomerGUID'])\n",
    "    if key not in unique_address:\n",
    "        # Assign new product ID if key is not found and increment the ID\n",
    "        unique_address[key] = current_address_id\n",
    "        current_address_id += 1\n",
    "    return unique_address[key]\n",
    "\n",
    "# Apply the function to each row in the DataFrame\n",
    "file['Address ID'] = file.apply(get_address_id, axis=1)"
   ]
  },
  {
   "cell_type": "code",
   "execution_count": null,
   "id": "b993dd18-09b4-4255-a04f-5bf30526f499",
   "metadata": {},
   "outputs": [],
   "source": [
    "# Create a dictionary to store UUIDs for unique customer combinations\n",
    "unique_address_uguid = {}\n",
    "\n",
    "# Function to get or create UUID\n",
    "def get_address_guid(row):\n",
    "    # Create a tuple of the key items\n",
    "    key = (row['Address ID'])\n",
    "    if key not in unique_address_uguid:\n",
    "        # Assign new UUID if key is not found\n",
    "        unique_address_uguid[key] = str(uuid.uuid4())\n",
    "    return unique_address_uguid[key]\n",
    "\n",
    "# Apply the function to each row in the DataFrame\n",
    "file['AddressGUID'] = file.apply(get_address_guid, axis=1)"
   ]
  },
  {
   "cell_type": "code",
   "execution_count": null,
   "id": "7a97e6ea-0d55-4f7b-bd73-f0c6549b10f6",
   "metadata": {},
   "outputs": [],
   "source": [
    "# Create a dictionary to store product IDs for unique combinations\n",
    "unique_shipment = {}\n",
    "current_shipment_id = 1  # Start product ID numbering from 1\n",
    "\n",
    "# Function to get or create a product ID\n",
    "def get_shipment_id(row):\n",
    "    global current_shipment_id\n",
    "    # Create a tuple of the key items\n",
    "    key = (row['Ship Mode'], row['Ship Date'], row['AddressGUID'])\n",
    "    if key not in unique_shipment:\n",
    "        # Assign new product ID if key is not found and increment the ID\n",
    "        unique_shipment[key] = current_shipment_id\n",
    "        current_shipment_id += 1\n",
    "    return unique_shipment[key]\n",
    "\n",
    "# Apply the function to each row in the DataFrame\n",
    "file['Shipping ID'] = file.apply(get_shipment_id, axis=1)"
   ]
  },
  {
   "cell_type": "code",
   "execution_count": null,
   "id": "e5943c88-5bef-40f6-bb7e-6f44a23fb7c2",
   "metadata": {},
   "outputs": [],
   "source": [
    "# Create a dictionary to store UUIDs for unique customer combinations\n",
    "unique_shipment_uguid = {}\n",
    "\n",
    "# Function to get or create UUID\n",
    "def get_shipment_guid(row):\n",
    "    # Create a tuple of the key items\n",
    "    key = (row['Shipping ID'])\n",
    "    if key not in unique_shipment_uguid:\n",
    "        # Assign new UUID if key is not found\n",
    "        unique_shipment_uguid[key] = str(uuid.uuid4())\n",
    "    return unique_shipment_uguid[key]\n",
    "\n",
    "# Apply the function to each row in the DataFrame\n",
    "file['ShippingGUID'] = file.apply(get_shipment_guid, axis=1)"
   ]
  },
  {
   "cell_type": "code",
   "execution_count": null,
   "id": "a1137867-af59-47d2-a50c-57f7288c2a38",
   "metadata": {},
   "outputs": [],
   "source": [
    "# Create a dictionary to store product IDs for unique combinations\n",
    "unique_sales = {}\n",
    "current_sales_id = 1  # Start product ID numbering from 1\n",
    "\n",
    "# Function to get or create a product ID\n",
    "def get_address_id(row):\n",
    "    global current_sales_id\n",
    "    # Create a tuple of the key items\n",
    "    key = (row['OrderGUID'])\n",
    "    if key not in unique_sales:\n",
    "        # Assign new product ID if key is not found and increment the ID\n",
    "        unique_sales[key] = current_sales_id\n",
    "        current_sales_id += 1\n",
    "    return unique_sales[key]\n",
    "\n",
    "# Apply the function to each row in the DataFrame\n",
    "file['Sales ID'] = file.apply(get_address_id, axis=1)"
   ]
  },
  {
   "cell_type": "code",
   "execution_count": null,
   "id": "43c32434-0528-4e59-b4ad-0de8c80fefef",
   "metadata": {},
   "outputs": [],
   "source": [
    "# Create a dictionary to store UUIDs for unique customer combinations\n",
    "unique_sales_uguid = {}\n",
    "\n",
    "# Function to get or create UUID\n",
    "def get_sales_guid(row):\n",
    "    # Create a tuple of the key items\n",
    "    key = (row['Sales ID'])\n",
    "    if key not in unique_sales_uguid:\n",
    "        # Assign new UUID if key is not found\n",
    "        unique_sales_uguid[key] = str(uuid.uuid4())\n",
    "    return unique_sales_uguid[key]\n",
    "\n",
    "# Apply the function to each row in the DataFrame\n",
    "file['SalesGUID'] = file.apply(get_sales_guid, axis=1)"
   ]
  },
  {
   "cell_type": "code",
   "execution_count": null,
   "id": "eb9b30be-0bc9-476d-b86d-34805b618e0b",
   "metadata": {},
   "outputs": [],
   "source": [
    "file"
   ]
  },
  {
   "cell_type": "code",
   "execution_count": null,
   "id": "b01400a5-45c9-414c-b2bc-4ac932a61cb3",
   "metadata": {},
   "outputs": [],
   "source": [
    "customer_df = file[['CustomerGUID', 'Customer ID', 'Customer Name', 'Customer Segment']].drop_duplicates(subset=['Customer ID'])"
   ]
  },
  {
   "cell_type": "code",
   "execution_count": null,
   "id": "f785a757-86e2-42dc-a6f1-4b7d8b57a00e",
   "metadata": {},
   "outputs": [],
   "source": [
    "product_df = file [['ProductGUID', 'Product ID', 'Product Category', 'Product Sub-Category', 'Product Container']].drop_duplicates(subset=['Product ID'])"
   ]
  },
  {
   "cell_type": "code",
   "execution_count": null,
   "id": "adf5b9d3-4503-4618-9f07-f4bc0257b5ab",
   "metadata": {},
   "outputs": [],
   "source": [
    "shipping_df = file[['ShippingGUID', 'Shipping ID', 'Ship Date', 'Shipping Cost', 'Ship Mode', 'AddressGUID']].drop_duplicates(subset=['Shipping ID'])"
   ]
  },
  {
   "cell_type": "code",
   "execution_count": null,
   "id": "1562da02-7cc5-464e-b288-484654cdccd2",
   "metadata": {},
   "outputs": [],
   "source": [
    "order_df = file[['OrderGUID', 'Order ID', 'Order Date', 'Order Priority', 'CustomerGUID', 'ShippingGUID', 'ProductGUID']].drop_duplicates(subset=['Order ID'])"
   ]
  },
  {
   "cell_type": "code",
   "execution_count": null,
   "id": "1f99f886-7766-4f12-88a4-b4a52fd7a9c3",
   "metadata": {},
   "outputs": [],
   "source": [
    "address_df = file [['AddressGUID', 'Address ID', 'Region', 'State or Province', 'City', 'Postal Code', 'CustomerGUID']].drop_duplicates(subset=['Address ID'])"
   ]
  },
  {
   "cell_type": "code",
   "execution_count": null,
   "id": "ef28cf40-3d33-404b-b9ab-79e59ed2269b",
   "metadata": {},
   "outputs": [],
   "source": [
    "sales_df = file[['SalesGUID', 'Sales ID', 'Profit', 'Sales', 'Quantity ordered new', 'Product Base Margin', 'Discount', 'Unit Price', 'OrderGUID', 'ProductGUID']].drop_duplicates(subset=['Sales ID'])"
   ]
  },
  {
   "cell_type": "code",
   "execution_count": null,
   "id": "ddf3ed7c-4bd4-4383-a0d2-f8dc198fc62d",
   "metadata": {},
   "outputs": [],
   "source": [
    "customer_df = customer_df.rename(columns = {\n",
    "    'CustomerGUID': 'CustomerGUID',\n",
    "    'Customer ID': 'CustomerID',\n",
    "    'Customer Name': 'FullName',\n",
    "    'Customer Segment': 'Segment'\n",
    "})"
   ]
  },
  {
   "cell_type": "code",
   "execution_count": null,
   "id": "80578786-38a8-4839-8efc-782cf4dbbed0",
   "metadata": {},
   "outputs": [],
   "source": [
    "product_df = product_df.rename(columns = {\n",
    "    'ProductGUID': 'ProductGUID',\n",
    "    'Product ID': 'ProductID',\n",
    "    'Product Category': 'Category',\n",
    "    'Product Sub-Category': 'SubCategory',\n",
    "    'Product Container': 'Container'\n",
    "})"
   ]
  },
  {
   "cell_type": "code",
   "execution_count": null,
   "id": "db8b548c-f5f5-43c9-8139-0016f8c32382",
   "metadata": {},
   "outputs": [],
   "source": [
    "shipping_df = shipping_df.rename(columns = {\n",
    "    'ShippingGUID': 'ShippingGUID',\n",
    "    'Shipping ID': 'ShippingID',\n",
    "    'Ship Date': 'DateShipped',\n",
    "    'Shipping Cost': 'ShippingCost',\n",
    "    'Ship Mode': 'ShipMode',\n",
    "    'AddressGUID': 'AddressGUID'\n",
    "})"
   ]
  },
  {
   "cell_type": "code",
   "execution_count": null,
   "id": "4b5dade7-c1ac-4146-81f5-591f1b831733",
   "metadata": {},
   "outputs": [],
   "source": [
    "order_df = order_df.rename(columns = {\n",
    "    'OrderGUID': 'OrderGUID',\n",
    "    'Order ID': 'OrderID',\n",
    "    'Order Date': 'DateOrdered',\n",
    "    'Order Priority': 'Priority',\n",
    "    'CustomerGUID': 'CustomerGUID',\n",
    "    'ShippingGUID': 'ShippingGUID',\n",
    "    'ProductGUID': 'ProductGUID'\n",
    "})"
   ]
  },
  {
   "cell_type": "code",
   "execution_count": null,
   "id": "bcfc5c42-3817-4730-b936-b85d0382ad46",
   "metadata": {},
   "outputs": [],
   "source": [
    "address_df = address_df.rename(columns = {\n",
    "    'AddressGUID': 'AddressGUID',\n",
    "    'Address ID': 'AddressID',\n",
    "    'Region': 'Region',\n",
    "    'State or Province': 'State_Province',\n",
    "    'City': 'City',\n",
    "    'Postal Code': 'PostalCode',\n",
    "    'CustomerGUID': 'CustomerGUID'\n",
    "})"
   ]
  },
  {
   "cell_type": "code",
   "execution_count": null,
   "id": "85d142fc-93f7-4dd0-a30d-0814ee3fb3d1",
   "metadata": {},
   "outputs": [],
   "source": [
    "sales_df = sales_df.rename(columns = {\n",
    "    'SalesGUID': 'SalesGUID',\n",
    "    'Sales ID': 'SalesID',\n",
    "    'Profit': 'Profit',\n",
    "    'Sales': 'Sales',\n",
    "    'Quantity ordered new': 'QuantityOrdered', \n",
    "    'Product Base Margin': 'ProductBaseMargin',\n",
    "    'Discount': 'Discount',\n",
    "    'Unit Price': 'UnitPrice',\n",
    "    'OrderGUID': 'OrderGUID',\n",
    "    'ProductGUID': 'ProductGUID'\n",
    "})"
   ]
  },
  {
   "cell_type": "code",
   "execution_count": null,
   "id": "64fb3446-0d26-43e6-8cdd-0651508be99a",
   "metadata": {},
   "outputs": [],
   "source": [
    "# Convert the 'DateShipped' to the correct format with dayfirst=True to handle dd/mm/yyyy format\n",
    "shipping_df['DateShipped'] = pd.to_datetime(shipping_df['DateShipped'], dayfirst=True)\n",
    "\n",
    "# Format 'DateShipped' to yyyy-mm-dd format for PostgreSQL compatibility\n",
    "shipping_df['DateShipped'] = shipping_df['DateShipped'].dt.strftime('%Y-%m-%d')\n",
    "\n",
    "# Save the modified CSV file\n",
    "shipping_df.to_csv('Shipping.csv', index=False)"
   ]
  },
  {
   "cell_type": "code",
   "execution_count": null,
   "id": "0fcb0f68-f7a1-4db2-a359-7f2c199b5f3d",
   "metadata": {},
   "outputs": [],
   "source": [
    "# Convert the 'DateShipped' to the correct format with dayfirst=True to handle dd/mm/yyyy format\n",
    "order_df['DateOrdered'] = pd.to_datetime(order_df['DateOrdered'], dayfirst=True)\n",
    "\n",
    "# Format 'DateShipped' to yyyy-mm-dd format for PostgreSQL compatibility\n",
    "order_df['DateOrdered'] = order_df['DateOrdered'].dt.strftime('%Y-%m-%d')\n",
    "\n",
    "# Save the modified CSV file\n",
    "order_df.to_csv('Order.csv', index=False)"
   ]
  },
  {
   "cell_type": "code",
   "execution_count": null,
   "id": "7a80dd76-2773-4f00-b62b-d66d4fde441c",
   "metadata": {},
   "outputs": [],
   "source": [
    "customer_df.to_csv('Customer.csv', index = False)\n",
    "product_df.to_csv('Product.csv', index = False)\n",
    "shipping_df.to_csv('Shipping.csv', index = False)\n",
    "order_df.to_csv('Order.csv', index = False)\n",
    "address_df.to_csv('Address.csv', index = False)\n",
    "sales_df.to_csv('Sales.csv', index = False)"
   ]
  },
  {
   "cell_type": "code",
   "execution_count": null,
   "id": "f26e8ef4-c5a7-46a9-8895-ab0e7c1ddc56",
   "metadata": {},
   "outputs": [],
   "source": [
    "# Create the connection engine\n",
    "engine = create_engine(DATABASE_URL, echo=True)"
   ]
  },
  {
   "cell_type": "code",
   "execution_count": null,
   "id": "e7643550-516b-44d2-8457-cff96ed6a0fe",
   "metadata": {
    "scrolled": true
   },
   "outputs": [],
   "source": [
    "# Correct usage of connection and transaction scopes\n",
    "def create_customer_table():\n",
    "    # Open a connection\n",
    "    with engine.connect() as connection:\n",
    "        # Start a transaction\n",
    "        with connection.begin():\n",
    "            # Prepare the create table command using triple quotes for multi-line text\n",
    "            create_command = text(\"\"\"\n",
    "            CREATE TABLE Customer (\n",
    "                CustomerGUID UUID PRIMARY KEY,\n",
    "                CustomerID INT,\n",
    "                FullName VARCHAR(255),\n",
    "                Segment VARCHAR(255)\n",
    "            );\n",
    "            \"\"\")\n",
    "            # Execute the create command\n",
    "            connection.execute(create_command)\n",
    "        # The transaction is committed here automatically when the block ends\n",
    "    # The connection is closed here automatically when the block ends\n",
    "\n",
    "# Call the function to execute the command\n",
    "create_customer_table()"
   ]
  },
  {
   "cell_type": "code",
   "execution_count": null,
   "id": "bac18d67-b2a0-4d4b-864c-8e8e1f61da2d",
   "metadata": {
    "scrolled": true
   },
   "outputs": [],
   "source": [
    "# Correct usage of connection and transaction scopes\n",
    "def create_product_table():\n",
    "    # Open a connection\n",
    "    with engine.connect() as connection:\n",
    "        # Start a transaction\n",
    "        with connection.begin():\n",
    "            # Prepare the create table command using triple quotes for multi-line text\n",
    "            create_command = text(\"\"\"\n",
    "            CREATE TABLE Product (\n",
    "                ProductGUID UUID PRIMARY KEY,\n",
    "                Category VARCHAR(255),\n",
    "                SubCategory VARCHAR(255),\n",
    "                Container VARCHAR(255),\n",
    "            \tProductID INT\n",
    "            );\n",
    "            \"\"\")\n",
    "            # Execute the create command\n",
    "            connection.execute(create_command)\n",
    "        # The transaction is committed here automatically when the block ends\n",
    "    # The connection is closed here automatically when the block ends\n",
    "\n",
    "# Call the function to execute the command\n",
    "create_product_table()"
   ]
  },
  {
   "cell_type": "code",
   "execution_count": null,
   "id": "036635d1-be40-4609-9a0c-1940a4104cc1",
   "metadata": {
    "scrolled": true
   },
   "outputs": [],
   "source": [
    "# Correct usage of connection and transaction scopes\n",
    "def create_address_table():\n",
    "    # Open a connection\n",
    "    with engine.connect() as connection:\n",
    "        # Start a transaction\n",
    "        with connection.begin():\n",
    "            # Prepare the create table command using triple quotes for multi-line text\n",
    "            create_command = text(\"\"\"\n",
    "            CREATE TABLE Address (\n",
    "                AddressGUID UUID PRIMARY KEY,\n",
    "            \tAddressID INT,\n",
    "                Region VARCHAR(255),\n",
    "                State_Province VARCHAR(255),\n",
    "                City VARCHAR(255),\n",
    "                PostalCode VARCHAR(255),\n",
    "                CustomerGUID UUID REFERENCES Customer(CustomerGUID)\n",
    "            );\n",
    "            \"\"\")\n",
    "            # Execute the create command\n",
    "            connection.execute(create_command)\n",
    "        # The transaction is committed here automatically when the block ends\n",
    "    # The connection is closed here automatically when the block ends\n",
    "\n",
    "# Call the function to execute the command\n",
    "create_address_table()"
   ]
  },
  {
   "cell_type": "code",
   "execution_count": null,
   "id": "ab17be80-3386-4f5b-9010-ac3fda88eb56",
   "metadata": {
    "scrolled": true
   },
   "outputs": [],
   "source": [
    "# Correct usage of connection and transaction scopes\n",
    "def create_shipping_table():\n",
    "    # Open a connection\n",
    "    with engine.connect() as connection:\n",
    "        # Start a transaction\n",
    "        with connection.begin():\n",
    "            # Prepare the create table command using triple quotes for multi-line text\n",
    "            create_command = text(\"\"\"\n",
    "            CREATE TABLE Shipping (\n",
    "                ShippingGUID UUID PRIMARY KEY,\n",
    "                ShippingID INT,\n",
    "                DateShipped TIMESTAMP,\n",
    "                ShippingCost MONEY,\n",
    "                ShipMode VARCHAR(255),\n",
    "                AddressGUID UUID REFERENCES Address(AddressGUID)\n",
    "            );\n",
    "            \"\"\")\n",
    "            # Execute the create command\n",
    "            connection.execute(create_command)\n",
    "        # The transaction is committed here automatically when the block ends\n",
    "    # The connection is closed here automatically when the block ends\n",
    "\n",
    "# Call the function to execute the command\n",
    "create_shipping_table()"
   ]
  },
  {
   "cell_type": "code",
   "execution_count": null,
   "id": "fbf8adb0-4646-4521-b7d2-c7b55a961006",
   "metadata": {
    "scrolled": true
   },
   "outputs": [],
   "source": [
    "# Correct usage of connection and transaction scopes\n",
    "def create_order_table():\n",
    "    # Open a connection\n",
    "    with engine.connect() as connection:\n",
    "        # Start a transaction\n",
    "        with connection.begin():\n",
    "            # Prepare the create table command using triple quotes for multi-line text\n",
    "            create_command = text(\"\"\"\n",
    "            CREATE TABLE \"Order\" (\n",
    "                OrderGUID UUID PRIMARY KEY,\n",
    "                OrderID INT,\n",
    "                DateOrdered TIMESTAMP,\n",
    "                Priority VARCHAR(255),\n",
    "                CustomerGUID UUID REFERENCES Customer(CustomerGUID),\n",
    "                ShippingGUID UUID REFERENCES Shipping(ShippingGUID),\n",
    "                ProductGUID UUID REFERENCES Product(ProductGUID)\n",
    "            );\n",
    "            \"\"\")\n",
    "            # Execute the create command\n",
    "            connection.execute(create_command)\n",
    "        # The transaction is committed here automatically when the block ends\n",
    "    # The connection is closed here automatically when the block ends\n",
    "\n",
    "# Call the function to execute the command\n",
    "create_order_table()"
   ]
  },
  {
   "cell_type": "code",
   "execution_count": null,
   "id": "4070230f-7228-4839-aecc-b9026271ebed",
   "metadata": {
    "scrolled": true
   },
   "outputs": [],
   "source": [
    "# Correct usage of connection and transaction scopes\n",
    "def create_sales_table():\n",
    "    # Open a connection\n",
    "    with engine.connect() as connection:\n",
    "        # Start a transaction\n",
    "        with connection.begin():\n",
    "            # Prepare the create table command using triple quotes for multi-line text\n",
    "            create_command = text(\"\"\"\n",
    "            CREATE TABLE Sales (\n",
    "                SalesGUID UUID PRIMARY KEY,\n",
    "                SalesID INT,\n",
    "                Profit MONEY,\n",
    "                Sales MONEY,\n",
    "                QuantityOrdered INT,\n",
    "                ProductBaseMargin MONEY,\n",
    "                Discount DECIMAL,\n",
    "                UnitPrice MONEY,\n",
    "                OrderGUID UUID REFERENCES \"Order\"(OrderGUID),\n",
    "                ProductGUID UUID REFERENCES Product(ProductGUID)\n",
    "            );\n",
    "            \"\"\")\n",
    "            # Execute the create command\n",
    "            connection.execute(create_command)\n",
    "        # The transaction is committed here automatically when the block ends\n",
    "    # The connection is closed here automatically when the block ends\n",
    "\n",
    "# Call the function to execute the command\n",
    "create_sales_table()"
   ]
  },
  {
   "cell_type": "code",
   "execution_count": null,
   "id": "0b1f9b65-5bd4-4428-942e-2a5cbf52cdc2",
   "metadata": {},
   "outputs": [],
   "source": [
    "customer_df.columns = [col.lower() for col in customer_df.columns]  # Adjust based on actual column names required"
   ]
  },
  {
   "cell_type": "code",
   "execution_count": null,
   "id": "575aa4aa-2788-4dcf-921a-d8049ffe94e3",
   "metadata": {
    "scrolled": true
   },
   "outputs": [],
   "source": [
    "customer_df.to_sql('customer', con=engine, index=False, if_exists='append', schema='public')  # Ensure correct case and schema"
   ]
  },
  {
   "cell_type": "code",
   "execution_count": null,
   "id": "ad3cb3c9-004d-4174-b6f5-9cbb40bc9ec9",
   "metadata": {},
   "outputs": [],
   "source": [
    "product_df.columns = [col.lower() for col in product_df.columns]  # Adjust based on actual column names required"
   ]
  },
  {
   "cell_type": "code",
   "execution_count": null,
   "id": "9b67dee6-bde0-4d1e-acf5-657305be9814",
   "metadata": {
    "scrolled": true
   },
   "outputs": [],
   "source": [
    "# Insert the product_df DataFrame into the 'Product' table\n",
    "product_df.to_sql('product', con=engine, index=False, if_exists='append')"
   ]
  },
  {
   "cell_type": "code",
   "execution_count": null,
   "id": "8713b340-b104-4d17-b2ce-68ee5e353325",
   "metadata": {},
   "outputs": [],
   "source": [
    "shipping_df.columns = [col.lower() for col in shipping_df.columns]  # Adjust based on actual column names required"
   ]
  },
  {
   "cell_type": "code",
   "execution_count": null,
   "id": "b46ff415-0ca9-45aa-978e-911489cb8dbe",
   "metadata": {
    "scrolled": true
   },
   "outputs": [],
   "source": [
    "# Insert the shipping_df DataFrame into the 'Shipping' table\n",
    "shipping_df.to_sql('shipping', con=engine, index=False, if_exists='append')"
   ]
  },
  {
   "cell_type": "code",
   "execution_count": null,
   "id": "5cfca04c-472b-44d6-8224-a1d9afe7422c",
   "metadata": {},
   "outputs": [],
   "source": [
    "order_df.columns = [col.lower() for col in order_df.columns]  # Adjust based on actual column names required"
   ]
  },
  {
   "cell_type": "code",
   "execution_count": null,
   "id": "0be0d9ba-4697-4dee-ad05-e8e4111ac38e",
   "metadata": {
    "scrolled": true
   },
   "outputs": [],
   "source": [
    "# Insert the order_df DataFrame into the 'Order' table\n",
    "order_df.to_sql('Order', con=engine, index=False, if_exists='append')"
   ]
  },
  {
   "cell_type": "code",
   "execution_count": null,
   "id": "9ac10983-4736-40ea-9a23-c9a5fc9f1e3e",
   "metadata": {},
   "outputs": [],
   "source": [
    "address_df.columns = [col.lower() for col in address_df.columns]  # Adjust based on actual column names required"
   ]
  },
  {
   "cell_type": "code",
   "execution_count": null,
   "id": "b8d1d9e9-2db5-47ce-971b-d60dfcfbd82f",
   "metadata": {
    "scrolled": true
   },
   "outputs": [],
   "source": [
    "# Insert the address_df DataFrame into the 'Address' table\n",
    "address_df.to_sql('address', con=engine, index=False, if_exists='append')"
   ]
  },
  {
   "cell_type": "code",
   "execution_count": null,
   "id": "ed8aa6c2-0a9f-4c34-a555-53dd305dfbbe",
   "metadata": {},
   "outputs": [],
   "source": [
    "def add_state_code_column():\n",
    "    # Open a connection\n",
    "    with engine.connect() as connection:\n",
    "        # Start a transaction\n",
    "        with connection.begin():\n",
    "            # Prepare the ALTER TABLE command to add a new column\n",
    "            alter_command = text(\"\"\"\n",
    "            ALTER TABLE Address\n",
    "            ADD COLUMN State_Code VARCHAR(10);\n",
    "            \"\"\")\n",
    "            # Execute the ALTER command\n",
    "            connection.execute(alter_command)\n",
    "        # The transaction is committed here automatically when the block ends\n",
    "    # The connection is closed here automatically when the block ends\n",
    "\n",
    "# Call the function to execute the command\n",
    "add_state_code_column()"
   ]
  },
  {
   "cell_type": "code",
   "execution_count": null,
   "id": "498f0532-5ef1-43df-bc85-f40169bc30d1",
   "metadata": {},
   "outputs": [],
   "source": [
    "state_code_mapping = {\n",
    "    'Alabama': 'AL', 'Alaska': 'AK', 'Arizona': 'AZ', 'Arkansas': 'AR', 'California': 'CA', \n",
    "    'Colorado': 'CO', 'Connecticut': 'CT', 'Delaware': 'DE', 'Florida': 'FL', 'Georgia': 'GA', \n",
    "    'Hawaii': 'HI', 'Idaho': 'ID', 'Illinois': 'IL', 'Indiana': 'IN', 'Iowa': 'IA', \n",
    "    'Kansas': 'KS', 'Kentucky': 'KY', 'Louisiana': 'LA', 'Maine': 'ME', 'Maryland': 'MD', \n",
    "    'Massachusetts': 'MA', 'Michigan': 'MI', 'Minnesota': 'MN', 'Mississippi': 'MS', 'Missouri': 'MO', \n",
    "    'Montana': 'MT', 'Nebraska': 'NE', 'Nevada': 'NV', 'New Hampshire': 'NH', 'New Jersey': 'NJ', \n",
    "    'New Mexico': 'NM', 'New York': 'NY', 'North Carolina': 'NC', 'North Dakota': 'ND', 'Ohio': 'OH', \n",
    "    'Oklahoma': 'OK', 'Oregon': 'OR', 'Pennsylvania': 'PA', 'Rhode Island': 'RI', 'South Carolina': 'SC', \n",
    "    'South Dakota': 'SD', 'Tennessee': 'TN', 'Texas': 'TX', 'Utah': 'UT', 'Vermont': 'VT', \n",
    "    'Virginia': 'VA', 'Washington': 'WA', 'West Virginia': 'WV', 'Wisconsin': 'WI', 'Wyoming': 'WY'\n",
    "}"
   ]
  },
  {
   "cell_type": "code",
   "execution_count": null,
   "id": "89ffe798-7e9c-4c12-9a67-6b7136f7a16d",
   "metadata": {
    "scrolled": true
   },
   "outputs": [],
   "source": [
    "def update_state_codes(state_code_mapping):\n",
    "    # Open a connection\n",
    "    with engine.connect() as connection:\n",
    "        # Start a transaction\n",
    "        with connection.begin():\n",
    "            # Iterate over the state_code dictionary\n",
    "            for state_name, state_code in state_code_mapping.items():\n",
    "                # Prepare the UPDATE statement to set the state code\n",
    "                update_command = text(\"\"\"\n",
    "                UPDATE Address\n",
    "                SET State_Code = :state_code\n",
    "                WHERE State_Province = :state_name;\n",
    "                \"\"\")\n",
    "                # Execute the UPDATE command with parameters\n",
    "                connection.execute(update_command, {'state_code': state_code, 'state_name': state_name})\n",
    "        # The transaction is committed here automatically when the block ends\n",
    "    # The connection is closed here automatically when the block ends\n",
    "\n",
    "# Call the function to update the state codes\n",
    "update_state_codes(state_code_mapping)"
   ]
  },
  {
   "cell_type": "code",
   "execution_count": null,
   "id": "1c867341-fefd-4d75-ba8c-e176cd0a5e37",
   "metadata": {},
   "outputs": [],
   "source": [
    "sales_df.columns = [col.lower() for col in sales_df.columns]  # Adjust based on actual column names required"
   ]
  },
  {
   "cell_type": "code",
   "execution_count": null,
   "id": "c63085e0-08d5-4cf6-8035-3424c52bec5a",
   "metadata": {
    "scrolled": true
   },
   "outputs": [],
   "source": [
    "# Insert the sales_df DataFrame into the 'Sales' table\n",
    "sales_df.to_sql('sales', con=engine, index=False, if_exists='append')"
   ]
  },
  {
   "cell_type": "code",
   "execution_count": null,
   "id": "c59df7a4-7e2b-44df-89ff-50e53bc2fa07",
   "metadata": {
    "scrolled": true
   },
   "outputs": [],
   "source": [
    "query = \"Select * From Customer;\"\n",
    "\n",
    "df_customer = pd.read_sql_query(query, con=engine)\n",
    "\n",
    "df_customer"
   ]
  },
  {
   "cell_type": "code",
   "execution_count": null,
   "id": "b6470196-f4c0-4b9e-abcb-be02503abdfe",
   "metadata": {
    "scrolled": true
   },
   "outputs": [],
   "source": [
    "query = \"Select * From Product;\"\n",
    "\n",
    "df_product = pd.read_sql_query(query, con=engine)\n",
    "\n",
    "df_product"
   ]
  },
  {
   "cell_type": "code",
   "execution_count": null,
   "id": "0cc06bfd-f213-4d1a-b2e5-caa9ebdd0f87",
   "metadata": {
    "scrolled": true
   },
   "outputs": [],
   "source": [
    "query = \"Select * From Address;\"\n",
    "\n",
    "df_address = pd.read_sql_query(query, con=engine)\n",
    "\n",
    "df_address"
   ]
  },
  {
   "cell_type": "code",
   "execution_count": null,
   "id": "2085a3ff-e677-4c12-b78f-bc628db83b1b",
   "metadata": {},
   "outputs": [],
   "source": [
    "query = \"Select * From \\\"Order\\\";\"\n",
    "\n",
    "df_order = pd.read_sql_query(query, con=engine)\n",
    "\n",
    "df_order"
   ]
  },
  {
   "cell_type": "code",
   "execution_count": null,
   "id": "d32e75be-605a-4775-9a2b-03d62f0a50cd",
   "metadata": {
    "scrolled": true
   },
   "outputs": [],
   "source": [
    "query = \"Select * From Shipping;\"\n",
    "\n",
    "df_shipping = pd.read_sql_query(query, con=engine)\n",
    "\n",
    "df_shipping"
   ]
  },
  {
   "cell_type": "code",
   "execution_count": null,
   "id": "caf9e0be-4c6e-4f19-b454-5466fba48912",
   "metadata": {
    "scrolled": true
   },
   "outputs": [],
   "source": [
    "query = \"Select * From Sales;\"\n",
    "\n",
    "df_sales = pd.read_sql_query(query, con=engine)\n",
    "\n",
    "df_sales"
   ]
  },
  {
   "cell_type": "code",
   "execution_count": null,
   "id": "6cb362b8-180e-428c-ac93-09234a317665",
   "metadata": {},
   "outputs": [],
   "source": [
    "limit = 5"
   ]
  },
  {
   "cell_type": "code",
   "execution_count": null,
   "id": "da32a544-22b0-47f0-8701-8239856a271a",
   "metadata": {
    "scrolled": true
   },
   "outputs": [],
   "source": [
    "class CustomerData:\n",
    "    def __init__(self, dataframe):\n",
    "        self.dataframe = dataframe\n",
    "\n",
    "    def top_customers_by_segment(self, segment):\n",
    "        return self.dataframe[self.dataframe['segment'] == segment].head(limit)\n",
    "\n",
    "# Instantiate the class\n",
    "customer_data = CustomerData(df_customer)\n",
    "\n",
    "# Example method use\n",
    "df_customer_data_top_segment = customer_data.top_customers_by_segment('Corporate')"
   ]
  },
  {
   "cell_type": "code",
   "execution_count": null,
   "id": "519beb26-354f-4190-a1f8-b2fa4a22210d",
   "metadata": {
    "scrolled": true
   },
   "outputs": [],
   "source": [
    "df_customer_data_top_segment"
   ]
  },
  {
   "cell_type": "code",
   "execution_count": null,
   "id": "9f05c9fa-c6f4-4af7-81e1-b59d0927f1e1",
   "metadata": {},
   "outputs": [],
   "source": [
    "class ProductData:\n",
    "    def __init__(self, dataframe):\n",
    "        self.dataframe = dataframe\n",
    "\n",
    "    def top_products_by_category(self, category):\n",
    "        return self.dataframe[self.dataframe['category'] == category].head(limit)\n",
    "\n",
    "    def top_products_by_subcategory(self, subcategory):\n",
    "        return self.dataframe[self.dataframe['subcategory'] == subcategory].head(limit)\n",
    "\n",
    "    def top_products_by_container(self, container):\n",
    "        return self.dataframe[self.dataframe['container'] == container].head(limit)\n",
    "\n",
    "# Intantiate the class\n",
    "product_data = ProductData(df_product)\n",
    "\n",
    "# Example method use\n",
    "df_product_data_top_category = product_data.top_products_by_category('Technology')\n",
    "\n",
    "df_product_data_top_subcategory = product_data.top_products_by_subcategory('Paper')\n",
    "\n",
    "df_product_data_top_container = product_data.top_products_by_container('Small Box')"
   ]
  },
  {
   "cell_type": "code",
   "execution_count": null,
   "id": "b820ef07-98a5-49aa-a888-8fc9e5871dc6",
   "metadata": {
    "scrolled": true
   },
   "outputs": [],
   "source": [
    "df_product_data_top_category "
   ]
  },
  {
   "cell_type": "code",
   "execution_count": null,
   "id": "53f44f64-d4d9-4904-9180-0f0a991f101c",
   "metadata": {
    "scrolled": true
   },
   "outputs": [],
   "source": [
    "df_product_data_top_subcategory "
   ]
  },
  {
   "cell_type": "code",
   "execution_count": null,
   "id": "f1747586-8d9b-4777-9435-686cfce54960",
   "metadata": {
    "scrolled": true
   },
   "outputs": [],
   "source": [
    "df_product_data_top_container "
   ]
  },
  {
   "cell_type": "code",
   "execution_count": null,
   "id": "3ccaccdf-45fe-4972-a634-9fefc3d678d2",
   "metadata": {},
   "outputs": [],
   "source": [
    "class AddressData:\n",
    "    def __init__(self, dataframe):\n",
    "        self.dataframe = dataframe\n",
    "\n",
    "    def top_address_by_region(self, region):\n",
    "        return self.dataframe[self.dataframe['region'] == region].head(limit)\n",
    "\n",
    "    def top_address_by_state_province(self, state_province):\n",
    "        return self.dataframe[self.dataframe['state_province'] == state_province].head(limit)\n",
    "\n",
    "    def top_address_by_city(self, city):\n",
    "        return self.dataframe[self.dataframe['city'] == city].head(limit)\n",
    "\n",
    "# Intantiate the class\n",
    "address_data = AddressData(df_address)\n",
    "\n",
    "df_address_data_top_region = address_data.top_address_by_region('Central')\n",
    "\n",
    "df_address_data_top_state_province = address_data.top_address_by_state_province('California')\n",
    "\n",
    "df_address_data_top_city = address_data.top_address_by_city('Fairmont')"
   ]
  },
  {
   "cell_type": "code",
   "execution_count": null,
   "id": "8e418e32-dad9-4d93-998c-84370647bcbc",
   "metadata": {
    "scrolled": true
   },
   "outputs": [],
   "source": [
    "df_address_data_top_region"
   ]
  },
  {
   "cell_type": "code",
   "execution_count": null,
   "id": "6ff8ef91-1f6d-49dd-b990-4f4d7cdf7ff4",
   "metadata": {
    "scrolled": true
   },
   "outputs": [],
   "source": [
    "df_address_data_top_state_province"
   ]
  },
  {
   "cell_type": "code",
   "execution_count": null,
   "id": "cfd0950b-b8e4-41ea-bf5d-36584293f1ca",
   "metadata": {
    "scrolled": true
   },
   "outputs": [],
   "source": [
    "df_address_data_top_city"
   ]
  },
  {
   "cell_type": "code",
   "execution_count": null,
   "id": "55a0b8ec-c6ad-4743-8aa0-6a98d2c16972",
   "metadata": {},
   "outputs": [],
   "source": [
    "class OrderData:\n",
    "    def __init__(self, dataframe):\n",
    "        self.dataframe = dataframe\n",
    "\n",
    "    def top_order_by_priority(self, priority):\n",
    "        return self.dataframe[self.dataframe['priority'] == priority].head(limit)\n",
    "\n",
    "    def top_order_by_year_ordered(self, year):\n",
    "        return self.dataframe[self.dataframe['dateordered'].dt.year == year].head(limit)\n",
    "\n",
    "order_data = OrderData(df_order)\n",
    "\n",
    "df_order_data_top_priority = order_data.top_order_by_priority('High')\n",
    "\n",
    "df_order_data_top_year_ordered = order_data.top_order_by_year_ordered(2011)"
   ]
  },
  {
   "cell_type": "code",
   "execution_count": null,
   "id": "a62a39ef-5ee2-4e28-ad6d-84125fc57ee4",
   "metadata": {
    "scrolled": true
   },
   "outputs": [],
   "source": [
    "df_order_data_top_priority"
   ]
  },
  {
   "cell_type": "code",
   "execution_count": null,
   "id": "3cad8eb0-f021-453c-b6f1-d2b2a408d65d",
   "metadata": {
    "scrolled": true
   },
   "outputs": [],
   "source": [
    "df_order_data_top_year_ordered"
   ]
  },
  {
   "cell_type": "code",
   "execution_count": null,
   "id": "7a3eff3f-93e5-4a89-8207-76a1e8e3f44b",
   "metadata": {},
   "outputs": [],
   "source": [
    "class ShippingData:\n",
    "    def __init__(self, dataframe):\n",
    "        self.dataframe = dataframe\n",
    "\n",
    "    def top_shipping_by_shipmode(self, shipmode):\n",
    "        return self.dataframe[self.dataframe['shipmode'] == shipmode].head(limit)\n",
    "\n",
    "    def top_shipping_by_year_shipped(self, year):\n",
    "        return self.dataframe[self.dataframe['dateshipped'].dt.year == year].head(limit)\n",
    "\n",
    "shipping_data = ShippingData(df_shipping)\n",
    "\n",
    "df_shipping_data_top_shipmode = shipping_data.top_shipping_by_shipmode('Regular Air')\n",
    "\n",
    "df_shipping_data_top_year_shipped = shipping_data.top_shipping_by_year_shipped(2012)"
   ]
  },
  {
   "cell_type": "code",
   "execution_count": null,
   "id": "41ca0368-f74d-460a-be21-e783b82028b1",
   "metadata": {},
   "outputs": [],
   "source": [
    "df_shipping_data_top_shipmode"
   ]
  },
  {
   "cell_type": "code",
   "execution_count": null,
   "id": "c6ddf4c9-a21e-4074-a424-9361d643ca30",
   "metadata": {},
   "outputs": [],
   "source": [
    "df_shipping_data_top_year_shipped"
   ]
  },
  {
   "cell_type": "code",
   "execution_count": null,
   "id": "cf25f6b5-83dd-4513-8f7b-31bfb88a935d",
   "metadata": {},
   "outputs": [],
   "source": [
    "class SalesData:\n",
    "\n",
    "    def __init__(self, dataframe):\n",
    "        self.dataframe = dataframe\n",
    "\n",
    "    def top_sales_by_profit(self, profit):\n",
    "        return self.dataframe[self.dataframe['profit'] >= profit].head(limit)\n",
    "\n",
    "    def top_sales_by_salesamount(self, sales):\n",
    "        return self.dataframe[self.dataframe['sales'] >= sales].head(limit)\n",
    "\n",
    "    def top_sales_by_quantity(self, quantity):\n",
    "        return self.dataframe[self.dataframe['quantityordered'] >= quantity].head(limit)\n",
    "\n",
    "sales_data = SalesData(df_sales)\n",
    "\n",
    "df_sales_data_top_profit = sales_data.top_sales_by_profit('$2')\n",
    "\n",
    "df_sales_data_top_salesamount = sales_data.top_sales_by_salesamount('$100')\n",
    "\n",
    "df_sales_data_top_quantity = sales_data.top_sales_by_quantity(7)"
   ]
  },
  {
   "cell_type": "code",
   "execution_count": null,
   "id": "e9229599-6962-4922-9669-fc91c1247760",
   "metadata": {},
   "outputs": [],
   "source": [
    "df_sales_data_top_profit"
   ]
  },
  {
   "cell_type": "code",
   "execution_count": null,
   "id": "843ca080-5b23-48da-865b-7109ee9667c7",
   "metadata": {},
   "outputs": [],
   "source": [
    "df_sales_data_top_salesamount"
   ]
  },
  {
   "cell_type": "code",
   "execution_count": null,
   "id": "94bb3efe-7456-4509-9cbc-cdcb5a69f201",
   "metadata": {},
   "outputs": [],
   "source": [
    "df_sales_data_top_quantity"
   ]
  },
  {
   "cell_type": "code",
   "execution_count": null,
   "id": "da6d6fff-d12d-4a93-8fca-fc619bf113ec",
   "metadata": {},
   "outputs": [],
   "source": [
    "# Optionally, dispose the engine if it's no longer needed\n",
    "engine.dispose()"
   ]
  }
 ],
 "metadata": {
  "kernelspec": {
   "display_name": "Python 3",
   "language": "python",
   "name": "python3"
  },
  "language_info": {
   "codemirror_mode": {
    "name": "ipython",
    "version": 3
   },
   "file_extension": ".py",
   "mimetype": "text/x-python",
   "name": "python",
   "nbconvert_exporter": "python",
   "pygments_lexer": "ipython3",
   "version": "3.9.6 (default, Oct  4 2024, 08:01:31) \n[Clang 16.0.0 (clang-1600.0.26.4)]"
  },
  "vscode": {
   "interpreter": {
    "hash": "31f2aee4e71d21fbe5cf8b01ff0e069b9275f58929596ceb00d14d90e3e16cd6"
   }
  }
 },
 "nbformat": 4,
 "nbformat_minor": 5
}
